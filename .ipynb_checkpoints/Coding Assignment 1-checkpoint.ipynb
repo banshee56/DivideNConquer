{
 "cells": [
  {
   "cell_type": "markdown",
   "id": "15e5a4f1",
   "metadata": {},
   "source": [
    "# Coding Assignment 1\n",
    "\n",
    "## Bansharee Ireen\n",
    "\n",
    "### Credit Statement: I worked alone."
   ]
  },
  {
   "cell_type": "code",
   "execution_count": 1,
   "id": "4c6a0419",
   "metadata": {},
   "outputs": [],
   "source": [
    "# PLEASE RUN FIRST\n",
    "# all import statements here so as not to duplicate imports\n",
    "from math import floor\n",
    "import time\n",
    "import matplotlib.pyplot as plt"
   ]
  },
  {
   "cell_type": "markdown",
   "id": "415879c8",
   "metadata": {},
   "source": [
    "## Problem 1: Divide"
   ]
  },
  {
   "cell_type": "code",
   "execution_count": 2,
   "id": "5ef0bb9f",
   "metadata": {},
   "outputs": [],
   "source": [
    "# when 2 numbers are added or subtracted\n",
    "# inputs:\n",
    "#        * a and b: numbers to add/subtract\n",
    "#        * runningTime: the running time before the operation\n",
    "# output: the running time after the operation\n",
    "#\n",
    "def addSubRuntime(a, b, runningTime):\n",
    "    runningTime += max(len(str(a)), len(str(b)))\n",
    "    return runningTime\n",
    "\n",
    "\n",
    "# when 1 number is incremented by 1\n",
    "# inputs:\n",
    "#        * a: number to increment\n",
    "#        * runningTime: the running time before the operation\n",
    "# output: the running time after the operation\n",
    "#\n",
    "def incrementRuntime(a, runningTime):\n",
    "    # if a is even\n",
    "    if a % 2 == 0:\n",
    "        \n",
    "        # increment running time by 1\n",
    "        runningTime += 1\n",
    "        \n",
    "    else:\n",
    "        # increase by larger len of the 2 nums \n",
    "        # len('1') = 1\n",
    "        addSubRuntime(a, 1, runningTime)\n",
    "    \n",
    "    return runningTime\n",
    "\n",
    "\n",
    "# implementation of the divide algorithm\n",
    "# inputs:\n",
    "#         * x: dividend\n",
    "#         * y: divisor\n",
    "# outputs: tuple (q, r, runningTime)\n",
    "#         * q: quotient\n",
    "#         * r: remainder\n",
    "#         * runningTime: the running time taken to divide, according to the rules in the question\n",
    "#\n",
    "def divide(x, y, runningTime=0):\n",
    "    # base cases\n",
    "    if x < y:\n",
    "        return (0, x, runningTime)\n",
    "    if x == y:\n",
    "        return (1, 0, runningTime)\n",
    "    \n",
    "    # halve x\n",
    "    x_p = floor(x/2)\n",
    "    \n",
    "    # get pair for smaller x_p\n",
    "    (q_p, r_p, runningTime) = divide(x_p, y, runningTime)\n",
    "    \n",
    "    # use double the values to get quotient, remainder pair for x\n",
    "    q = 2*q_p\n",
    "    r = 2*r_p\n",
    "\n",
    "    if x % 2 != 0:  # if x is odd\n",
    "        # r is incremented by 1\n",
    "        runningTime = incrementRuntime(r, runningTime)\n",
    "        r += 1\n",
    "        \n",
    "    if r >= y:\n",
    "        # q is incremented by 1\n",
    "        runningTime = incrementRuntime(q, runningTime)\n",
    "        q += 1\n",
    "        \n",
    "        # y is subtracted from r\n",
    "        runningTime = addSubRuntime(r, y, runningTime)\n",
    "        r -= y\n",
    "\n",
    "    return (q, r, runningTime)\n",
    "\n",
    "# some small test cases\n",
    "test = False\n",
    "\n",
    "if test:\n",
    "    inputs =[[5, 2], [21, 15]]\n",
    "\n",
    "    print(\"Running tests:\")\n",
    "    print('---------------------------')\n",
    "    for pair in inputs:\n",
    "        res = divide(pair[0], pair[1])\n",
    "        print(res[0:2])\n",
    "        print('running time: '+ str(res[2]))\n",
    "        print('---------------------------')"
   ]
  },
  {
   "cell_type": "markdown",
   "id": "839ec64a",
   "metadata": {},
   "source": [
    "### Input Question 1"
   ]
  },
  {
   "cell_type": "code",
   "execution_count": 3,
   "id": "64a90577",
   "metadata": {},
   "outputs": [
    {
     "name": "stdout",
     "output_type": "stream",
     "text": [
      "Quotient, remainder pair for (30294982, 2124234): (14, 555706)\n",
      "Total running time: 26\n"
     ]
    }
   ],
   "source": [
    "# answering the input question\n",
    "question =(30294982, 2124234)\n",
    "answer = divide(question[0], question[1])\n",
    "\n",
    "print (\"Quotient, remainder pair for \" + str(question) + \": \" + str(answer[0:2]))\n",
    "print(\"Total running time: \" + str(answer[2]))"
   ]
  },
  {
   "cell_type": "markdown",
   "id": "b5578067",
   "metadata": {},
   "source": [
    "## Problem 2: Inversions in Pi"
   ]
  },
  {
   "cell_type": "markdown",
   "id": "cce58c9e",
   "metadata": {},
   "source": [
    "### A. Naive Algorithm"
   ]
  },
  {
   "cell_type": "code",
   "execution_count": 4,
   "id": "78104938",
   "metadata": {},
   "outputs": [],
   "source": [
    "# naive implementation to count inversions in an array\n",
    "# input: array\n",
    "# output: # of inversions\n",
    "def naiveInv(A):\n",
    "    # number of inversions\n",
    "    count = 0\n",
    "    \n",
    "    # for each element in A\n",
    "    for i in range(len(A)):\n",
    "        \n",
    "        # check the elements following it\n",
    "        for j in range(i+1, len(A)):\n",
    "            \n",
    "            # if the current element is larger than any of its succeeding elements, it is an inversion\n",
    "            if A[i] > A[j]:\n",
    "                count += 1\n",
    "                \n",
    "    return count"
   ]
  },
  {
   "cell_type": "markdown",
   "id": "798ea01c",
   "metadata": {},
   "source": [
    "### B. Fastest Counting Inversions Algorithm"
   ]
  },
  {
   "cell_type": "code",
   "execution_count": 5,
   "id": "1b13f22a",
   "metadata": {},
   "outputs": [],
   "source": [
    "# combines the two input arrays into one sorted array while also counting number of cross-inversions\n",
    "# inputs: 2 sorted integer arrays\n",
    "# output: tuple (combined, count) where combined is the combined, sorted array and count is # of cross inversions\n",
    "def countAndCombine(P, Q):\n",
    "    p = len(P)\n",
    "    q = len(Q)\n",
    "    \n",
    "    # pointers to elements in P and Q respectively\n",
    "    i = 0\n",
    "    j = 0\n",
    "    \n",
    "    count = 0     # number of cross-inversions between P and Q elements\n",
    "    combined = []      # new array to hold sorted, combined array\n",
    "    \n",
    "    # use 2 pointers to compare elements in P and Q\n",
    "    while i < p and j < q:\n",
    "        # an inversion\n",
    "        if P[i] > Q[j]:\n",
    "            # update count of cross-inversions by the number of elements remaining in P[i:]\n",
    "            count += p-i\n",
    "\n",
    "            # add the smaller element to the new array and move to next element\n",
    "            combined.append(Q[j])\n",
    "            j += 1\n",
    "            \n",
    "        # P[i] <= Q[j], so no inversion\n",
    "        else:\n",
    "            # add the smaller element to the new array and move to next element\n",
    "            combined.append(P[i])\n",
    "            i += 1\n",
    "        \n",
    "    # COMBINE\n",
    "    # if all the elements in P have been processed\n",
    "    if i >= p:\n",
    "        # add the remaining elements in Q to the new array\n",
    "        for j2 in range(j, q):\n",
    "            combined.append(Q[j2])\n",
    "            \n",
    "    # otherwise\n",
    "    else:\n",
    "        # add the remaining elements in P to the new array\n",
    "        for i2 in range(i, p):\n",
    "            combined.append(P[i2])\n",
    "    \n",
    "    return (combined, count)\n",
    "\n",
    "# sorts the array while counting total # of inversions in it\n",
    "# input: integer array\n",
    "# output: tuple (B, count) where B is the array, sorted, and count is total # of inversions\n",
    "def sortAndCount(arr):\n",
    "    n = len(arr)\n",
    "    \n",
    "    # base case when there is only 1 element so no inversions are possible\n",
    "    if n == 1:\n",
    "        return (arr, 0)\n",
    "    \n",
    "    # DIVIDE: split the array into 2\n",
    "    m = floor(n/2)\n",
    "    \n",
    "    # recursively deal with each sub array\n",
    "    (P, inv1) = sortAndCount(arr[0:m])\n",
    "    (Q, inv2) = sortAndCount(arr[m:n])\n",
    "    \n",
    "    # count the cross-inversions between the 2 arrays received above\n",
    "    (combined, count) = countAndCombine(P, Q)\n",
    "    \n",
    "    return (combined, inv1+inv2+count)\n",
    "\n",
    "\n",
    "\n",
    "# some small test cases\n",
    "compare = False\n",
    "\n",
    "if compare:\n",
    "    inputs = [[3, 1, 4, 1, 5, 9], [1, 9, 4, 5, 7, 8, 3, 2], \n",
    "              [13, 42, 31, 29]]\n",
    "    failed = 0\n",
    "    \n",
    "    for inp in inputs:\n",
    "        naiveRes = naiveInv(inp)\n",
    "        dncRes = sortAndCount(inp)\n",
    "        \n",
    "        if naiveRes != dncRes[1]:\n",
    "            failed += 1\n",
    "            print(\"Failed test case: \" + str(inp))\n",
    "            print(\"Naive output: \" + str(naiveRes))\n",
    "            print(\"Sort and count output: \" + str(dncRes))\n",
    "    \n",
    "    if failed==0:\n",
    "        print('Passed all test cases!')"
   ]
  },
  {
   "cell_type": "code",
   "execution_count": 6,
   "id": "47af6573",
   "metadata": {},
   "outputs": [],
   "source": [
    "# assumption: using pi file provided on Canvas, must be placed in same dir as the notebook\n",
    "\n",
    "# this function is taken from the helper.py file on Canvas\n",
    "# has been modified for this assignment\n",
    "\n",
    "# input: positive integer\n",
    "# output: array containing \n",
    "def read_pi(n):\n",
    "    if n < 1:\n",
    "        print('Error: requires a positive integer.')\n",
    "        return []\n",
    "    \n",
    "    #opens the file name \"pi\" and reads the first n digits\n",
    "    #puts it in the list pi, and returns that list\n",
    "    pi = list()\n",
    "    f = open('pi','r')\n",
    "    for i in range(n):\n",
    "        d = f.read(1)\n",
    "        pi.append(int(d))\n",
    "    f.close\n",
    "    return pi"
   ]
  },
  {
   "cell_type": "markdown",
   "id": "a32177d8",
   "metadata": {},
   "source": [
    "### Input Question 2"
   ]
  },
  {
   "cell_type": "code",
   "execution_count": 7,
   "id": "15ed6273",
   "metadata": {},
   "outputs": [
    {
     "name": "stdout",
     "output_type": "stream",
     "text": [
      "Number of inversions in A[1: 1000000]: 224964173233\n",
      "Total actual running time on my machine: ~2.718532085418701\n"
     ]
    }
   ],
   "source": [
    "# answering the input question\n",
    "n = 1000000\n",
    "\n",
    "before = time.time()\n",
    "answer = sortAndCount(read_pi(n))\n",
    "after = time.time()\n",
    "\n",
    "print(\"Number of inversions in A[1: \" + str(n) + \"]: \" + str(answer[1]))\n",
    "print(\"Total actual running time on my machine: ~\"+ str(after-before))"
   ]
  },
  {
   "cell_type": "markdown",
   "id": "974bd33e",
   "metadata": {},
   "source": [
    "### C. Plot"
   ]
  },
  {
   "cell_type": "code",
   "execution_count": 8,
   "id": "17536c69",
   "metadata": {},
   "outputs": [
    {
     "data": {
      "image/png": "[encoded data removed]",
      "text/plain": [
       "<Figure size 640x480 with 1 Axes>"
      ]
     },
     "metadata": {},
     "output_type": "display_data"
    }
   ],
   "source": [
    "# calculates time taken to run divide and conquer implementation\n",
    "# input: the array to find inversions in\n",
    "# output: the time taken\n",
    "#\n",
    "def dncTime(arr):\n",
    "    before = time.time()\n",
    "    answer = sortAndCount(arr)\n",
    "    after = time.time()\n",
    "    \n",
    "    return after-before\n",
    "\n",
    "# calculates time taken to run naive implementation\n",
    "# input: the array to find inversions in\n",
    "# output: the time taken\n",
    "#\n",
    "def naiveTime(arr):\n",
    "    before = time.time()\n",
    "    answer = naiveInv(arr)\n",
    "    after = time.time()\n",
    "    \n",
    "    return after-before\n",
    "\n",
    "# inputs:\n",
    "#        * n: upper bound of the x axis (it must start at 1)\n",
    "#        * jumps: the x value intervals of the plots\n",
    "# output: 2 plots\n",
    "# teal plot: time taken for divide and conquer implementation to run as array size increases\n",
    "# orange plot: time take for naive implementation to run as array size increas\n",
    "\n",
    "def graph_plot(n, jumps):\n",
    "    # X-axis: numbers 1 to n indicating the size of the pi array\n",
    "    # Y-axis: time taken by the two implementations\n",
    "    X = list()\n",
    "    dncY = list()      # y values for the divide and conquer plot\n",
    "    naiveY = list()    # y values for the naive plot\n",
    "\n",
    "    \n",
    "    for i in range(1, n, 100):\n",
    "        X.append(i)\n",
    "        \n",
    "        # get the array\n",
    "        pi = read_pi(i)\n",
    "        \n",
    "        # input dnc time taken as y value\n",
    "        dnc = dncTime(pi)\n",
    "        dncY.append(dnc)\n",
    "        \n",
    "        # input naive time taken as other y value\n",
    "        naive = naiveTime(pi)\n",
    "        naiveY.append(naive)\n",
    "    \n",
    "    # dive and conquer plot\n",
    "    plt.plot(X, dncY, color='teal')\n",
    "    # naive plot\n",
    "    plt.plot(X, naiveY, color='orange')\n",
    "    \n",
    "    plt.show()\n",
    "    \n",
    "graph_plot(5000, 100)"
   ]
  }
 ],
 "metadata": {
  "kernelspec": {
   "display_name": "Python 3 (ipykernel)",
   "language": "python",
   "name": "python3"
  },
  "language_info": {
   "codemirror_mode": {
    "name": "ipython",
    "version": 3
   },
   "file_extension": ".py",
   "mimetype": "text/x-python",
   "name": "python",
   "nbconvert_exporter": "python",
   "pygments_lexer": "ipython3",
   "version": "3.10.7"
  }
 },
 "nbformat": 4,
 "nbformat_minor": 5
}
